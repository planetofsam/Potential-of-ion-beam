{
 "cells": [
  {
   "cell_type": "code",
   "execution_count": null,
   "metadata": {},
   "outputs": [],
   "source": [
    "import PySimpleGUI as sg\n",
    "import numpy as np\n",
    "#import myfunctions as mf\n",
    "\n",
    "def calculate(Energy,Current,Bd,Td,Mass):\n",
    "    import numpy as np\n",
    "    import matplotlib.pyplot as plt\n",
    "    import myfunctions as mf\n",
    "#    Current=Current # in micro Amps\n",
    "#    BeamDiameter=Bd# in mm\n",
    "#    Energy=Energy # in eV\n",
    "#    Mass=Mass # in amu\n",
    "#    TubeDiameter=Td # in mm Enter radius here, whole number\n",
    "    plt.close('all')\n",
    "    plt.figure(1)\n",
    "    v,r=mf.potential(Energy,Mass,Current,Bd,Td)\n",
    "    plt.plot(r,v,label='Space Potential')\n",
    "    plt.legend()\n",
    "    plt.xlabel('r (distance from beam center, mm)',FontSize=14)\n",
    "    plt.ylabel('Voltage (v)',FontSize=14)\n",
    "    plt.title('Potential distribution for various Beam Diameters')\n",
    "\n",
    "    plt.axvline(Bd,ymax=0.75,linestyle='--',label='Beam Diameter')\n",
    "    plt.axvline(-Bd,ymax=0.75,linestyle='--')\n",
    "    plt.legend()\n",
    "    plt.ioff()\n",
    "    plt.show(block=False)\n",
    "\n",
    "\n",
    "\n",
    "layout=[[sg.Text('Beam potetnial profile')],\n",
    "        [sg.Text('Beam energy in eV'), sg.Input(10,do_not_clear=True)],\n",
    "        [sg.Text('Beam current in uA'), sg.Input(1,do_not_clear=True)],\n",
    "        [sg.Text('Beam diameter in mm'), sg.Input(5,do_not_clear=True)],\n",
    "        [sg.Text('Tube Diameter in mm'), sg.Input(100,do_not_clear=True)],\n",
    "        [sg.Text('Mass of ion in amu'), sg.Input(56,do_not_clear=True)],\n",
    "        [sg.OK('Go!'),sg.Button('Exit')]]\n",
    "window=sg.Window('Beam space-charge potential').Layout(layout)\n",
    "while True:\n",
    "    event,values=window.Read()\n",
    "    if event=='Go!':\n",
    "        print(values)\n",
    "        x1=float(values[0])\n",
    "        x2=float(values[1])\n",
    "        x3=float(values[2])\n",
    "        x4=float(values[3])\n",
    "        x5=float(values[4])\n",
    "        v=np.array(values)\n",
    "        calculate(x1,x2,x3,x4,x5)\n",
    "  \n",
    "        \n",
    "    elif event is None or event=='Exit':\n",
    "        break\n",
    "window.Close()   "
   ]
  }
 ],
 "metadata": {
  "kernelspec": {
   "display_name": "Python 3",
   "language": "python",
   "name": "python3"
  },
  "language_info": {
   "codemirror_mode": {
    "name": "ipython",
    "version": 3
   },
   "file_extension": ".py",
   "mimetype": "text/x-python",
   "name": "python",
   "nbconvert_exporter": "python",
   "pygments_lexer": "ipython3",
   "version": "3.7.6"
  }
 },
 "nbformat": 4,
 "nbformat_minor": 4
}
